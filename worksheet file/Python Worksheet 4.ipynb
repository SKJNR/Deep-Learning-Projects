{
 "cells": [
  {
   "cell_type": "markdown",
   "metadata": {},
   "source": [
    "## Python - WORKSHEET 4\n",
    "### Solutions\n",
    "ANS 1) B) len()\n",
    "ANS 2) C) compiled then interpreted\n",
    "ANS 3) B) [1,2,2,1]\n",
    "ANS 4) D) [60,30]\n",
    "ANS 5) C) a[ : :-1]\n",
    "ANS 6) B) Meena\n",
    "ANS 7) C) [“World Hello ”, “Python Hello ”, “World Adios ”, “Python Adios ”]\n",
    "ANS 8) A) 4\n",
    "ANS 9) A) l1+l2, D) l1.extend(l2)\n",
    "ANS 10) A) s[0]+s[-1], B) s[ : : -1][-1] + s[len(s)-1], D) s[ : : -1][ : : -6]\n",
    "ANS 11)\n",
    "INTERPRETER\n",
    "\n",
    ">> 1)Interpreter translates just one statement of the program at a time into machine code.<br>\n",
    ">> 2)An interpreter takes very less time to analyze the source code. However, the overall time to execute the process is much slower.<br>\n",
    ">> 3)An interpreter does not generate an intermediary code. Hence, an interpreter is highly efficient in terms of its memory.<br>\n",
    "\n",
    "COMPILER\n",
    "\n",
    ">> 1)Compiler scans the entire program and translates the whole of it into machine code at once. <br>\n",
    ">> 2)A compiler takes a lot of time to analyze the source code. However, the overall time taken to execute the process is much faster.<br>\n",
    "3)A compiler always generates an intermediary object code. It will need further linking. Hence more memory is needed.<br>\n",
    "\n",
    "Python uses both Interpreter and Compiler, the compilation part is done first when we execute our code and this will generate byte code and internally this byte code gets converted by the python virtual machine(p.v.m) according to the underlying platform(machine+operating system).\n",
    "\n",
    "ANS 12)\n",
    "It is used to set the path for the user-defined modules so that it can be directly imported into a Python program. It is also responsible for handling the default search path for Python Modules. The PYTHONPATH variable holds a string with the name of various directories that need to be added to the sys.path directory list by Python."
   ]
  },
  {
   "cell_type": "markdown",
   "metadata": {},
   "source": [
    "### 13. How will you remove all the leading and trailing whitespaces in a string in python? Give one example"
   ]
  },
  {
   "cell_type": "code",
   "execution_count": 3,
   "metadata": {},
   "outputs": [
    {
     "data": {
      "text/plain": [
       "'Hello Python'"
      ]
     },
     "execution_count": 3,
     "metadata": {},
     "output_type": "execute_result"
    }
   ],
   "source": [
    "#ANS 13)\n",
    "#In Python Trailing and leading spaces can be easily remove using strip() function. Given below is an example.\n",
    "\n",
    "1\n",
    "# string with leading and trailing spaces\n",
    "2\n",
    "l=' Hello Python '\n",
    "3\n",
    "l\n",
    "' Hello Python '\n",
    "1\n",
    "# string without leading and trailing spaces\n",
    "2\n",
    "l.strip()\n",
    "'Hello Python'"
   ]
  },
  {
   "cell_type": "markdown",
   "metadata": {},
   "source": [
    "## 14. Write a python program to represent a user entered number in expanded form.<br>\n",
    "For eg: user_input = 12345<br>\n",
    "Output = 110000 + 21000 + 3100 + 410 + 5*1"
   ]
  },
  {
   "cell_type": "code",
   "execution_count": 4,
   "metadata": {},
   "outputs": [
    {
     "name": "stdout",
     "output_type": "stream",
     "text": [
      "Enter the number34\n",
      "3 * 1 0   +   4 * 1\n"
     ]
    }
   ],
   "source": [
    "def function_input(num):\n",
    "    digits = str(num) # convert number to string\n",
    "    output = []\n",
    "    for i, digit in enumerate(digits):\n",
    "          output.append(digit + \"*\" + str(10**(len(digits)-i-1)))\n",
    "    return \" + \".join(output)\n",
    "\n",
    "user_input=int(input(\"Enter the number\"))\n",
    "output=function_input(user_input)\n",
    "print(*output)"
   ]
  },
  {
   "cell_type": "markdown",
   "metadata": {},
   "source": [
    "### 15. Write a python program to determine whether the number entered by the user is an Armstrong number or not?."
   ]
  },
  {
   "cell_type": "code",
   "execution_count": 5,
   "metadata": {},
   "outputs": [
    {
     "name": "stdout",
     "output_type": "stream",
     "text": [
      "Enter the number:23\n",
      "The number is not an Armstrong number\n"
     ]
    }
   ],
   "source": [
    "def armstrong(number):\n",
    "    result=0\n",
    "    numb=number\n",
    "    for i in range(0,length):\n",
    "        digit=numb%10\n",
    "        result=result + (digit**3)\n",
    "        numb=numb//10\n",
    "    if (number==result):\n",
    "        print(\"The number is an Armstrong number\")\n",
    "    elif (number!=result):\n",
    "        print(\"The number is not an Armstrong number\") \n",
    "\n",
    "# Asking user top input the number..\n",
    "\n",
    "number=input(\"Enter the number:\")\n",
    "length=len(number)\n",
    "number=int(number)\n",
    "armstrong(number)"
   ]
  },
  {
   "cell_type": "markdown",
   "metadata": {},
   "source": [
    "# END OF DOCUMENT"
   ]
  }
 ],
 "metadata": {
  "kernelspec": {
   "display_name": "Python 3",
   "language": "python",
   "name": "python3"
  },
  "language_info": {
   "codemirror_mode": {
    "name": "ipython",
    "version": 3
   },
   "file_extension": ".py",
   "mimetype": "text/x-python",
   "name": "python",
   "nbconvert_exporter": "python",
   "pygments_lexer": "ipython3",
   "version": "3.7.4"
  }
 },
 "nbformat": 4,
 "nbformat_minor": 2
}
